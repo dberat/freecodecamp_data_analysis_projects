{
 "cells": [
  {
   "cell_type": "code",
   "execution_count": 1,
   "id": "67af9ab8-08c9-4628-87b1-5d543d7dfc0f",
   "metadata": {},
   "outputs": [],
   "source": [
    "import numpy as np"
   ]
  },
  {
   "cell_type": "code",
   "execution_count": 2,
   "id": "42b3acdc-59f0-4da9-8e5e-7309c2c20cec",
   "metadata": {},
   "outputs": [],
   "source": [
    "def calculate(list):\n",
    "    if len(list) < 9:\n",
    "        raise ValueError('List must contain nine numbers.')\n",
    "        \n",
    "    #Creating 3x3 matrix out of the list\n",
    "    arr = np.array(list).reshape(3,3)\n",
    "\n",
    "    #Calculating the mean of the axes and the entire matrix and converting results into lists.\n",
    "    axis1_mean = arr.mean(axis=0)\n",
    "    axis2_mean = arr.mean(axis=1)\n",
    "    list1_mean = axis1_mean.tolist()\n",
    "    list2_mean = axis2_mean.tolist()\n",
    "    mean = arr.mean()\n",
    "\n",
    "    #Calculating the variance of the axes and the entire matrix and converting results into lists.\n",
    "    axis1_var = arr.var(axis=0)\n",
    "    axis2_var = arr.var(axis=1)\n",
    "    list1_var = axis1_var.tolist()\n",
    "    list2_var = axis2_var.tolist()\n",
    "    var = arr.var()\n",
    "\n",
    "    #Calculating the standard deviation of the axes and the entire matrix and converting results into lists.\n",
    "    axis1_std = arr.std(axis=0)\n",
    "    axis2_std = arr.std(axis=1)\n",
    "    list1_std = axis1_std.tolist()\n",
    "    list2_std = axis2_std.tolist()\n",
    "    std = arr.std()\n",
    "\n",
    "    #Calculating the maximum value of the axes and the entire matrix and converting results into lists.\n",
    "    axis1_max = arr.max(axis=0)\n",
    "    axis2_max = arr.max(axis=1)\n",
    "    list1_max = axis1_max.tolist()\n",
    "    list2_max = axis2_max.tolist()\n",
    "    max = arr.max()\n",
    "\n",
    "    #Calculating the minimum value of the axes and the entire matrix and converting results into lists.\n",
    "    axis1_min = arr.min(axis=0)\n",
    "    axis2_min = arr.min(axis=1)\n",
    "    list1_min = axis1_min.tolist()\n",
    "    list2_min = axis2_min.tolist()\n",
    "    min = arr.min()\n",
    "\n",
    "    #Calculating the sum of the axes and the entire matrix and converting results into lists.\n",
    "    axis1_sum = arr.sum(axis=0)\n",
    "    axis2_sum = arr.sum(axis=1)\n",
    "    list1_sum = axis1_sum.tolist()\n",
    "    list2_sum = axis2_sum.tolist()\n",
    "    sum = arr.sum()\n",
    "\n",
    "    calculations = { \n",
    "        \"mean\": [list1_mean, list2_mean, mean],\n",
    "       \"variance\": [list1_var, list2_var, var],\n",
    "        \"standard deviation\": [list1_std, list2_std, std],\n",
    "        \"max\": [list1_max, list2_max, max],\n",
    "        \"min\": [list1_min, list2_min, min],\n",
    "        \"sum\": [list1_sum, list2_sum, sum]\n",
    "            }\n",
    "    return calculations\n"
   ]
  },
  {
   "cell_type": "code",
   "execution_count": 3,
   "id": "41ac24e3-5567-4b1f-9e60-f713ae02378c",
   "metadata": {},
   "outputs": [
    {
     "data": {
      "text/plain": [
       "{'mean': [[3.0, 4.0, 5.0], [1.0, 4.0, 7.0], 4.0],\n",
       " 'variance': [[6.0, 6.0, 6.0],\n",
       "  [0.6666666666666666, 0.6666666666666666, 0.6666666666666666],\n",
       "  6.666666666666667],\n",
       " 'standard deviation': [[2.449489742783178,\n",
       "   2.449489742783178,\n",
       "   2.449489742783178],\n",
       "  [0.816496580927726, 0.816496580927726, 0.816496580927726],\n",
       "  2.581988897471611],\n",
       " 'max': [[6, 7, 8], [2, 5, 8], 8],\n",
       " 'min': [[0, 1, 2], [0, 3, 6], 0],\n",
       " 'sum': [[9, 12, 15], [3, 12, 21], 36]}"
      ]
     },
     "execution_count": 3,
     "metadata": {},
     "output_type": "execute_result"
    }
   ],
   "source": [
    "calculate([0,1,2,3,4,5,6,7,8])"
   ]
  }
 ],
 "metadata": {
  "kernelspec": {
   "display_name": "Python 3 (ipykernel)",
   "language": "python",
   "name": "python3"
  },
  "language_info": {
   "codemirror_mode": {
    "name": "ipython",
    "version": 3
   },
   "file_extension": ".py",
   "mimetype": "text/x-python",
   "name": "python",
   "nbconvert_exporter": "python",
   "pygments_lexer": "ipython3",
   "version": "3.9.13"
  }
 },
 "nbformat": 4,
 "nbformat_minor": 5
}
